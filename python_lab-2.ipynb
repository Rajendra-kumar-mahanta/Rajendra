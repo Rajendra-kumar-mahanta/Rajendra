{
  "nbformat": 4,
  "nbformat_minor": 0,
  "metadata": {
    "colab": {
      "name": "Untitled1.ipynb",
      "provenance": [],
      "authorship_tag": "ABX9TyMtpAlwaiF3h6dlhPZG1tCE",
      "include_colab_link": true
    },
    "kernelspec": {
      "name": "python3",
      "display_name": "Python 3"
    }
  },
  "cells": [
    {
      "cell_type": "markdown",
      "metadata": {
        "id": "view-in-github",
        "colab_type": "text"
      },
      "source": [
        "<a href=\"https://colab.research.google.com/github/Real-Raj-kumar/Rajendra/blob/master/python_lab-2.ipynb\" target=\"_parent\"><img src=\"https://colab.research.google.com/assets/colab-badge.svg\" alt=\"Open In Colab\"/></a>"
      ]
    },
    {
      "cell_type": "code",
      "metadata": {
        "colab": {
          "base_uri": "https://localhost:8080/"
        },
        "id": "UpDY2dSIdcC7",
        "outputId": "21105b3c-3ab9-4858-ccb4-cfc792fe08c0"
      },
      "source": [
        "#WAP to display simple interest and compound interest\r\n",
        "P = input(\"\\n Enter the principal amount: \")\r\n",
        "T = (input(\"\\n Enter the time: \")\r\n",
        "R = input(\"\\n Enter the rate: \")\r\n",
        "Si = (int(P) * float(T) * float(R) ) /100\r\n",
        "Ci = int(P) * (((1 + float(R)/100) ** int(T)) - 1)\r\n",
        "print(\"\\n Simple interest is : \",Si)\r\n",
        "print(\"\\n Compound interest is : \",Ci)"
      ],
      "execution_count": 1,
      "outputs": [
        {
          "output_type": "stream",
          "text": [
            "\n",
            " Enter the principal amount: 200000\n",
            "\n",
            " Enter the time: 3\n",
            "\n",
            " Enter the rate: 25\n",
            "\n",
            " Simple interest is :  150000.0\n",
            "\n",
            " Compound interest is :  190625.0\n"
          ],
          "name": "stdout"
        }
      ]
    },
    {
      "cell_type": "code",
      "metadata": {
        "colab": {
          "base_uri": "https://localhost:8080/"
        },
        "id": "U05oHb_khLGH",
        "outputId": "964f571b-2bc2-4447-e0b4-f46f9df1ea09"
      },
      "source": [
        "#WAP to input first name, middle name and last name into the three variables then apply concatenation.\r\n",
        "Fn = input(\"\\n Enter First name : \")\r\n",
        "Mn = input(\"\\n Enter Middle name : \")\r\n",
        "Ln = input(\"\\n Enter last name : \")\r\n",
        "print(\"Full Name is : \" + Fn + \" \" + Mn + \" \" + Ln )"
      ],
      "execution_count": 3,
      "outputs": [
        {
          "output_type": "stream",
          "text": [
            "\n",
            " Enter First name : Rajendra\n",
            "\n",
            " Enter Middle name : Kumar\n",
            "\n",
            " Enter last name : Mahanta\n",
            "Full Name is : Rajendra Kumar Mahanta\n"
          ],
          "name": "stdout"
        }
      ]
    },
    {
      "cell_type": "code",
      "metadata": {
        "colab": {
          "base_uri": "https://localhost:8080/"
        },
        "id": "i_LOq5fVjF3h",
        "outputId": "a029e464-693a-4aea-bd65-bceac78198ce"
      },
      "source": [
        "#WAP to create a list with multiple dimention and display the elements.\r\n",
        "a = [ [2, 4, 6, 8 ],  \r\n",
        "    [ 1, 3, 5, 7 ],  \r\n",
        "    [ 8, 6, 4, 2 ],  \r\n",
        "    [ 7, 5, 3, 1 ] ]          \r\n",
        "for i in range(len(a)) :  \r\n",
        "    for j in range(len(a[i])) :  \r\n",
        "        print(a[i][j], end=\" \") \r\n",
        "    print()     "
      ],
      "execution_count": 5,
      "outputs": [
        {
          "output_type": "stream",
          "text": [
            "2 4 6 8 \n",
            "1 3 5 7 \n",
            "8 6 4 2 \n",
            "7 5 3 1 \n"
          ],
          "name": "stdout"
        }
      ]
    },
    {
      "cell_type": "code",
      "metadata": {
        "colab": {
          "base_uri": "https://localhost:8080/"
        },
        "id": "X541SwD2jlHy",
        "outputId": "70a12475-c605-4bb8-bcfc-17b7ad28ce7d"
      },
      "source": [
        "#WAP to implement type conversion of different data types.\r\n",
        "num_int = int(input(\"Enter an integer \"))\r\n",
        "num_flo = float(input(\"Enter a float\"))\r\n",
        "num_new = num_int + num_flo\r\n",
        "print(\"datatype of num_int:\",type(num_int))\r\n",
        "print(\"datatype of num_flo:\",type(num_flo))\r\n",
        "print(\"Value of num_new:\",num_new)\r\n",
        "print(\"datatype of num_new:\",type(num_new))"
      ],
      "execution_count": 4,
      "outputs": [
        {
          "output_type": "stream",
          "text": [
            "Enter an integer 23\n",
            "Enter a float43.8\n",
            "datatype of num_int: <class 'int'>\n",
            "datatype of num_flo: <class 'float'>\n",
            "Value of num_new: 66.8\n",
            "datatype of num_new: <class 'float'>\n"
          ],
          "name": "stdout"
        }
      ]
    },
    {
      "cell_type": "code",
      "metadata": {
        "colab": {
          "base_uri": "https://localhost:8080/"
        },
        "id": "VKtKg2nGjvEh",
        "outputId": "15664ab6-5944-42b0-9bae-83efd9be256c"
      },
      "source": [
        "#WAP to find the distance between two points using pythogorean theorem where the coordination of two points are given.\r\n",
        "import math\r\n",
        "print(\"Enter first coordinate\")\r\n",
        "x1 =int(input(\"Enter x1 value :\"))\r\n",
        "y1 =int(input(\"Enter y1 value :\"))\r\n",
        "print(\"Enter second coordinate\")\r\n",
        "x2 =int(input(\"Enter x2 value :\"))\r\n",
        "y2 =int(input(\"Enter y2 value :\"))\r\n",
        "d = math.sqrt((x2-x1)**2+(y2-y1)**2)\r\n",
        "print(\"The distance between these two given points are :  \",d)"
      ],
      "execution_count": 9,
      "outputs": [
        {
          "output_type": "stream",
          "text": [
            "Enter first coordinate\n",
            "Enter x1 value :2\n",
            "Enter y1 value :3\n",
            "Enter second coordinate\n",
            "Enter x2 value :4\n",
            "Enter y2 value :5\n",
            "The distance between these two given points are :   2.8284271247461903\n"
          ],
          "name": "stdout"
        }
      ]
    }
  ]
}