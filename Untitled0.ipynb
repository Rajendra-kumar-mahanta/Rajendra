{
  "nbformat": 4,
  "nbformat_minor": 0,
  "metadata": {
    "colab": {
      "name": "Untitled0.ipynb",
      "provenance": [],
      "authorship_tag": "ABX9TyMN98/rgFw9WKMSGPNtywpC",
      "include_colab_link": true
    },
    "kernelspec": {
      "name": "python3",
      "display_name": "Python 3"
    },
    "language_info": {
      "name": "python"
    }
  },
  "cells": [
    {
      "cell_type": "markdown",
      "metadata": {
        "id": "view-in-github",
        "colab_type": "text"
      },
      "source": [
        "<a href=\"https://colab.research.google.com/github/Real-Raj-kumar/Rajendra/blob/master/Untitled0.ipynb\" target=\"_parent\"><img src=\"https://colab.research.google.com/assets/colab-badge.svg\" alt=\"Open In Colab\"/></a>"
      ]
    },
    {
      "cell_type": "code",
      "metadata": {
        "colab": {
          "base_uri": "https://localhost:8080/"
        },
        "id": "BSsnP8wSaG6x",
        "outputId": "88ba31ee-0f1a-4ccf-8a97-e60423fd9f11"
      },
      "source": [
        "#Create a list with Tuples inside it(Series) calculate the sum of elements in tuple and store thew sum of tuples in record\n",
        "def test(lst):\n",
        "    result =  map(sum, lst)\n",
        "    return list(result)\n",
        "nums = [(1,2,5), (2,3,8), (3,4,6)]\n",
        "print(\"Original list of tuples:\")\n",
        "print(nums)\n",
        "print(\"\\nSum of all the elements of each tuple stored the sum of tuples:\")\n",
        "print(test(nums))\n",
        "nums = [(1,2,6), (2,3,-6), (3,4), (2,2,2,2)]"
      ],
      "execution_count": 8,
      "outputs": [
        {
          "output_type": "stream",
          "text": [
            "Original list of tuples:\n",
            "[(1, 2, 5), (2, 3, 8), (3, 4, 6)]\n",
            "\n",
            "Sum of all the elements of each tuple stored the sum of tuples:\n",
            "[8, 13, 13]\n"
          ],
          "name": "stdout"
        }
      ]
    },
    {
      "cell_type": "code",
      "metadata": {
        "colab": {
          "base_uri": "https://localhost:8080/"
        },
        "id": "C9fXBn1NfZk4",
        "outputId": "40729128-86c2-4f51-9073-378e5cd6eee5"
      },
      "source": [
        "#Wap a to create a list and input numbers into it,then remove the repeated elements from it and display it back\n",
        "def Remove(duplicate):\n",
        "\tfinal_list = []\n",
        "\tfor num in duplicate:\n",
        "\t\tif num not in final_list:\n",
        "\t\t\tfinal_list.append(num)\n",
        "\treturn final_list\n",
        "duplicate = [2, 4, 10, 20, 5, 2, 20, 4]\n",
        "print(Remove(duplicate))\n"
      ],
      "execution_count": 10,
      "outputs": [
        {
          "output_type": "stream",
          "text": [
            "[2, 4, 10, 20, 5]\n"
          ],
          "name": "stdout"
        }
      ]
    },
    {
      "cell_type": "code",
      "metadata": {
        "colab": {
          "base_uri": "https://localhost:8080/"
        },
        "id": "tHqoWRJYhHRl",
        "outputId": "af39db46-1189-4b51-b560-2ca1cf57c4d9"
      },
      "source": [
        "#Wap a to create a list and input numbers into it,then remove the repeated elements from it and display it back\n",
        "def Remove(duplicate):\n",
        "\tfinal_list = []\n",
        "\tfor num in duplicate:\n",
        "\t\tif num not in final_list:\n",
        "\t\t\tfinal_list.append(num)\n",
        "\treturn final_list\n",
        "num=int(input(\"enter how many number you want to insert\\n\"))\n",
        "list=[]\n",
        "print(\"Enter the value for the list\")\n",
        "for i in range(0,num):\n",
        "    x = int(input(\"\\n\"))\n",
        "    list.append(x)\n",
        "print(\"Given list is\")\n",
        "print(list)\n",
        "print(\"List wiothout duplication\")\n",
        "print(Remove(list))"
      ],
      "execution_count": 20,
      "outputs": [
        {
          "output_type": "stream",
          "text": [
            "enter how many number you want to insert\n",
            "8\n",
            "Enter the value for the list\n",
            "\n",
            "1\n",
            "\n",
            "2\n",
            "\n",
            "1\n",
            "\n",
            "1\n",
            "\n",
            "4\n",
            "\n",
            "5\n",
            "\n",
            "6\n",
            "\n",
            "4\n",
            "Given list is\n",
            "[1, 2, 1, 1, 4, 5, 6, 4]\n",
            "List wiothout duplication\n",
            "[1, 2, 4, 5, 6]\n"
          ],
          "name": "stdout"
        }
      ]
    },
    {
      "cell_type": "code",
      "metadata": {
        "id": "zrl6g-Z8i2Kl"
      },
      "source": [
        ""
      ],
      "execution_count": null,
      "outputs": []
    }
  ]
}