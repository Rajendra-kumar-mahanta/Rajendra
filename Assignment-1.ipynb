{
  "nbformat": 4,
  "nbformat_minor": 0,
  "metadata": {
    "colab": {
      "name": "Untitled0.ipynb",
      "provenance": [],
      "authorship_tag": "ABX9TyMSblCD3teoDe8Hnt2smNfH",
      "include_colab_link": true
    },
    "kernelspec": {
      "name": "python3",
      "display_name": "Python 3"
    }
  },
  "cells": [
    {
      "cell_type": "markdown",
      "metadata": {
        "id": "view-in-github",
        "colab_type": "text"
      },
      "source": [
        "<a href=\"https://colab.research.google.com/github/Real-Raj-kumar/Rajendra/blob/master/Assignment-1.ipynb\" target=\"_parent\"><img src=\"https://colab.research.google.com/assets/colab-badge.svg\" alt=\"Open In Colab\"/></a>"
      ]
    },
    {
      "cell_type": "code",
      "metadata": {
        "colab": {
          "base_uri": "https://localhost:8080/"
        },
        "id": "L5U40Ee5gBe2",
        "outputId": "67bb931c-2fa4-403c-8329-c792495668be"
      },
      "source": [
        "# WAP to input your name ,age and address and print threm.\r\n",
        "name = input(\"Ernter your Name : \")\r\n",
        "age = input(\"Ernter your Age : \")\r\n",
        "address = input(\"Ernter your Address : \")\r\n",
        "print(\"Name : \"+name)\r\n",
        "print(\"Age : \",age)\r\n",
        "print(\"Address : \"+address)\r\n"
      ],
      "execution_count": 2,
      "outputs": [
        {
          "output_type": "stream",
          "text": [
            "Ernter your Name : Rajendra Kumar Mahanta\n",
            "Ernter your Age : 19\n",
            "Ernter your Address : At/Po:Sendakap,via:Raisuan,Dist:Keonjhar,Pin:758013\n",
            "Name : Rajendra Kumar Mahanta\n",
            "Age :  19\n",
            "Address : At/Po:Sendakap,via:Raisuan,Dist:Keonjhar,Pin:758013\n"
          ],
          "name": "stdout"
        }
      ]
    },
    {
      "cell_type": "code",
      "metadata": {
        "colab": {
          "base_uri": "https://localhost:8080/"
        },
        "id": "vPwD1mZZiSOC",
        "outputId": "86ef9bd2-25ea-4188-f75e-31f27763dd6a"
      },
      "source": [
        "#WAP to input your marks for three subject then find sum and persentage.\r\n",
        "a = int(input(\"Enter 1st Mark :\"))\r\n",
        "b = int(input(\"Enter 2nd Mark :\"))\r\n",
        "c = int(input(\"Enter 3rd Mark :\"))\r\n",
        "total = 300\r\n",
        "sum = a+b+c\r\n",
        "per = (sum/total)*100\r\n",
        "print(\"Persentage is : \",per)"
      ],
      "execution_count": 4,
      "outputs": [
        {
          "output_type": "stream",
          "text": [
            "Enter 1st Mark :87\n",
            "Enter 2nd Mark :96\n",
            "Enter 3rd Mark :70\n",
            "Persentage is :  84.33333333333334\n"
          ],
          "name": "stdout"
        }
      ]
    },
    {
      "cell_type": "code",
      "metadata": {
        "colab": {
          "base_uri": "https://localhost:8080/"
        },
        "id": "Uw33HVNEj1vz",
        "outputId": "197b0c8b-54ec-4b9a-dff6-4e9f4b160eda"
      },
      "source": [
        "#WAP to find the area of a circle.\r\n",
        "import math\r\n",
        "a = int(input(\"Enter the Radious of the circle : \"))\r\n",
        "area =(math.pi) * a * a\r\n",
        "print(\"Area of the given radius is : \",area)"
      ],
      "execution_count": 5,
      "outputs": [
        {
          "output_type": "stream",
          "text": [
            "Enter the Radious of the circle : 23\n",
            "Area of the given radius is :  1661.9025137490005\n"
          ],
          "name": "stdout"
        }
      ]
    },
    {
      "cell_type": "code",
      "metadata": {
        "colab": {
          "base_uri": "https://localhost:8080/"
        },
        "id": "TITPidrVk81o",
        "outputId": "4b025529-50a5-4b11-f9ed-0deb6b2e8dd0"
      },
      "source": [
        "#WAP to find area and perimeter of a triangle.\r\n",
        "a = float(input(\"Enter first side\"))\r\n",
        "b = float(input(\"Enter second side\"))\r\n",
        "c = float(input(\"Enter third side\"))\r\n",
        "per = (a + b + c)\r\n",
        "s = per/2\r\n",
        "area = (s*(s-a)*(s-b)*(s-c)) / 2\r\n",
        "print(\"Perimater is : \",per,\"&22 Area is : \",area)\r\n"
      ],
      "execution_count": 10,
      "outputs": [
        {
          "output_type": "stream",
          "text": [
            "Enter first side23\n",
            "Enter second side24\n",
            "Enter third side25\n",
            "Perimater is :  72.0 &22 Area is :  30888.0\n"
          ],
          "name": "stdout"
        }
      ]
    },
    {
      "cell_type": "code",
      "metadata": {
        "colab": {
          "base_uri": "https://localhost:8080/"
        },
        "id": "25t7XH8Sn1IH",
        "outputId": "901c2381-e62c-4c1d-bd48-dd1e11c567f5"
      },
      "source": [
        "#WAP to volume of a sphere.\r\n",
        "import math\r\n",
        "r = float(input(\"Enter the radious of the sphere\"))\r\n",
        "vol = (4 * math.pi * r * r * r) / 3\r\n",
        "print(\"Volume of the given Sphere is : \",vol)"
      ],
      "execution_count": 12,
      "outputs": [
        {
          "output_type": "stream",
          "text": [
            "Enter the radious of the sphere23\n",
            "Volume of the given Sphere is :  50965.01042163602\n"
          ],
          "name": "stdout"
        }
      ]
    },
    {
      "cell_type": "code",
      "metadata": {
        "colab": {
          "base_uri": "https://localhost:8080/"
        },
        "id": "DYCOqXwxowV7",
        "outputId": "c47e1c40-fac1-4bd7-ee05-53b5d9ca9406"
      },
      "source": [
        "#WAP to create a list by initializing with 5 different fruits name and display them.\r\n",
        "fruits =['apple','banana','orange','mango','grapes']\r\n",
        "for i in range(5):\r\n",
        "    print(fruits[i])"
      ],
      "execution_count": 15,
      "outputs": [
        {
          "output_type": "stream",
          "text": [
            "apple\n",
            "banana\n",
            "orange\n",
            "mango\n",
            "grapes\n"
          ],
          "name": "stdout"
        }
      ]
    },
    {
      "cell_type": "code",
      "metadata": {
        "id": "UXrvIjF4p7RY",
        "colab": {
          "base_uri": "https://localhost:8080/"
        },
        "outputId": "ddbf72b8-c363-4edb-ac58-44598410f32f"
      },
      "source": [
        "#WAP to input a String and Display Reverse string\r\n",
        "string = input(\"Enter a String\")\r\n",
        "print(string[::-1])\r\n"
      ],
      "execution_count": 17,
      "outputs": [
        {
          "output_type": "stream",
          "text": [
            "Enter a StringRajendra Kumar Mahanta\n",
            "atnahaM ramuK ardnejaR\n"
          ],
          "name": "stdout"
        }
      ]
    }
  ]
}